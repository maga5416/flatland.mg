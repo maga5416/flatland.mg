{
  "nbformat": 4,
  "nbformat_minor": 0,
  "metadata": {
    "colab": {
      "provenance": []
    },
    "kernelspec": {
      "name": "python3",
      "display_name": "Python 3"
    },
    "language_info": {
      "name": "python"
    },
    "accelerator": "GPU",
    "gpuClass": "standard"
  },
  "cells": [
    {
      "cell_type": "code",
      "execution_count": 3,
      "metadata": {
        "id": "sUp3vG1ozRmZ"
      },
      "outputs": [],
      "source": [
        "import numpy as np\n",
        "\n",
        "data = np.load('flatland_train.npz')\n",
        "X = data['X']\n",
        "y = data['y']\n",
        "\n",
        "y[y != 0] -= 2    # Correct labels so that triangle is mapped to class 1\n",
        "X = X / 255.      # Scale down to range [0, 1]\n"
      ]
    },
    {
      "cell_type": "code",
      "source": [
        "# Construct and train your model (don't forget train/test split and other tricks)\n",
        "#model = ...\n",
        "from tensorflow import keras\n"
      ],
      "metadata": {
        "id": "eQ0-K-t71MXH"
      },
      "execution_count": 4,
      "outputs": []
    },
    {
      "cell_type": "code",
      "source": [
        "#toliau treniruosiu ant viso seto, bet veliau reikes ant dalies tik padaryt (pasidaryt splita)\n",
        "model = keras.models.Sequential()\n",
        "model.add(keras.layers.Flatten(input_shape=(50, 50)))\n",
        "model.add(keras.layers.Dense(20, activation='relu'))\n",
        "model.add(keras.layers.Dense(20, activation='relu'))\n",
        "model.add(keras.layers.Dense(5, activation='softmax'))\n",
        "\n",
        "model.compile(loss='sparse_categorical_crossentropy', optimizer='SGD', metrics=['accuracy'])\n",
        "model.summary()"
      ],
      "metadata": {
        "colab": {
          "base_uri": "https://localhost:8080/"
        },
        "id": "5N3YCSt42FzB",
        "outputId": "0822af7a-ce93-45d7-ae7e-205afe50169e"
      },
      "execution_count": 5,
      "outputs": [
        {
          "output_type": "stream",
          "name": "stdout",
          "text": [
            "Model: \"sequential\"\n",
            "_________________________________________________________________\n",
            " Layer (type)                Output Shape              Param #   \n",
            "=================================================================\n",
            " flatten (Flatten)           (None, 2500)              0         \n",
            "                                                                 \n",
            " dense (Dense)               (None, 20)                50020     \n",
            "                                                                 \n",
            " dense_1 (Dense)             (None, 20)                420       \n",
            "                                                                 \n",
            " dense_2 (Dense)             (None, 5)                 105       \n",
            "                                                                 \n",
            "=================================================================\n",
            "Total params: 50,545\n",
            "Trainable params: 50,545\n",
            "Non-trainable params: 0\n",
            "_________________________________________________________________\n"
          ]
        }
      ]
    },
    {
      "cell_type": "code",
      "source": [
        "model.fit(X, y, epochs=10)\n",
        "#validation_split trecias parametras"
      ],
      "metadata": {
        "colab": {
          "base_uri": "https://localhost:8080/"
        },
        "id": "wWINdrSL5Phx",
        "outputId": "f2d03862-33b1-4e23-8806-e70758cc1e4c"
      },
      "execution_count": 8,
      "outputs": [
        {
          "output_type": "stream",
          "name": "stdout",
          "text": [
            "Epoch 1/10\n",
            "313/313 [==============================] - 1s 3ms/step - loss: 0.1822 - accuracy: 0.9375\n",
            "Epoch 2/10\n",
            "313/313 [==============================] - 1s 3ms/step - loss: 0.1691 - accuracy: 0.9431\n",
            "Epoch 3/10\n",
            "313/313 [==============================] - 1s 3ms/step - loss: 0.2137 - accuracy: 0.9269\n",
            "Epoch 4/10\n",
            "313/313 [==============================] - 1s 3ms/step - loss: 0.1801 - accuracy: 0.9407\n",
            "Epoch 5/10\n",
            "313/313 [==============================] - 1s 3ms/step - loss: 0.1629 - accuracy: 0.9473\n",
            "Epoch 6/10\n",
            "313/313 [==============================] - 1s 3ms/step - loss: 0.2097 - accuracy: 0.9302\n",
            "Epoch 7/10\n",
            "313/313 [==============================] - 1s 3ms/step - loss: 0.1659 - accuracy: 0.9449\n",
            "Epoch 8/10\n",
            "313/313 [==============================] - 1s 3ms/step - loss: 0.1386 - accuracy: 0.9579\n",
            "Epoch 9/10\n",
            "313/313 [==============================] - 1s 3ms/step - loss: 0.2173 - accuracy: 0.9262\n",
            "Epoch 10/10\n",
            "313/313 [==============================] - 1s 3ms/step - loss: 0.1743 - accuracy: 0.9461\n"
          ]
        },
        {
          "output_type": "execute_result",
          "data": {
            "text/plain": [
              "<keras.callbacks.History at 0x7f0820222690>"
            ]
          },
          "metadata": {},
          "execution_count": 8
        }
      ]
    },
    {
      "cell_type": "code",
      "source": [
        "# Save the model and upload to git\n",
        "model.save('model.h5')\n"
      ],
      "metadata": {
        "id": "BL-YPue31W76"
      },
      "execution_count": 9,
      "outputs": []
    }
  ]
}