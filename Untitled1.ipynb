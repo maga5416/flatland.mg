{
  "nbformat": 4,
  "nbformat_minor": 0,
  "metadata": {
    "colab": {
      "provenance": []
    },
    "kernelspec": {
      "name": "python3",
      "display_name": "Python 3"
    },
    "language_info": {
      "name": "python"
    },
    "accelerator": "GPU",
    "gpuClass": "standard"
  },
  "cells": [
    {
      "cell_type": "code",
      "execution_count": 4,
      "metadata": {
        "id": "sUp3vG1ozRmZ"
      },
      "outputs": [],
      "source": [
        "import numpy as np\n",
        "\n",
        "data = np.load('flatland_train.npz')\n",
        "X = data['X']\n",
        "y = data['y']\n",
        "\n",
        "y[y != 0] -= 2    # Correct labels so that triangle is mapped to class 1\n",
        "X = X / 255.      # Scale down to range [0, 1]\n"
      ]
    },
    {
      "cell_type": "code",
      "source": [
        "# Construct and train your model (don't forget train/test split and other tricks)\n",
        "#model = ...\n",
        "from tensorflow import keras\n"
      ],
      "metadata": {
        "id": "eQ0-K-t71MXH"
      },
      "execution_count": 5,
      "outputs": []
    },
    {
      "cell_type": "code",
      "source": [
        "#toliau treniruosiu ant viso seto, bet veliau reikes ant dalies tik padaryt (pasidaryt splita)\n",
        "model = keras.models.Sequential()\n",
        "model.add(keras.layers.Flatten(input_shape=(50, 50)))\n",
        "model.add(keras.layers.Dense(20, activation='relu'))\n",
        "model.add(keras.layers.Dense(20, activation='relu'))\n",
        "model.add(keras.layers.Dense(5, activation='softmax'))\n",
        "\n",
        "model.compile(loss='sparse_categorical_crossentropy', optimizer='SGD', metrics=['accuracy'])\n",
        "model.summary()"
      ],
      "metadata": {
        "colab": {
          "base_uri": "https://localhost:8080/"
        },
        "id": "5N3YCSt42FzB",
        "outputId": "6a4dfe9a-c7fc-446a-a55c-6bc14dcf3783"
      },
      "execution_count": 6,
      "outputs": [
        {
          "output_type": "stream",
          "name": "stdout",
          "text": [
            "Model: \"sequential\"\n",
            "_________________________________________________________________\n",
            " Layer (type)                Output Shape              Param #   \n",
            "=================================================================\n",
            " flatten (Flatten)           (None, 2500)              0         \n",
            "                                                                 \n",
            " dense (Dense)               (None, 20)                50020     \n",
            "                                                                 \n",
            " dense_1 (Dense)             (None, 20)                420       \n",
            "                                                                 \n",
            " dense_2 (Dense)             (None, 5)                 105       \n",
            "                                                                 \n",
            "=================================================================\n",
            "Total params: 50,545\n",
            "Trainable params: 50,545\n",
            "Non-trainable params: 0\n",
            "_________________________________________________________________\n"
          ]
        }
      ]
    },
    {
      "cell_type": "code",
      "source": [
        "model.fit(X, y, epochs=10)\n",
        "#validation_split trecias parametras"
      ],
      "metadata": {
        "colab": {
          "base_uri": "https://localhost:8080/"
        },
        "id": "wWINdrSL5Phx",
        "outputId": "8a774d35-6c3a-4aaf-a298-953c587ba8a5"
      },
      "execution_count": 7,
      "outputs": [
        {
          "output_type": "stream",
          "name": "stdout",
          "text": [
            "Epoch 1/10\n",
            "313/313 [==============================] - 3s 3ms/step - loss: 1.4683 - accuracy: 0.3787\n",
            "Epoch 2/10\n",
            "313/313 [==============================] - 1s 2ms/step - loss: 1.3063 - accuracy: 0.4628\n",
            "Epoch 3/10\n",
            "313/313 [==============================] - 1s 3ms/step - loss: 1.2364 - accuracy: 0.4835\n",
            "Epoch 4/10\n",
            "313/313 [==============================] - 1s 2ms/step - loss: 1.1924 - accuracy: 0.4999\n",
            "Epoch 5/10\n",
            "313/313 [==============================] - 1s 2ms/step - loss: 1.1588 - accuracy: 0.5123\n",
            "Epoch 6/10\n",
            "313/313 [==============================] - 1s 2ms/step - loss: 1.1294 - accuracy: 0.5264\n",
            "Epoch 7/10\n",
            "313/313 [==============================] - 1s 2ms/step - loss: 1.0985 - accuracy: 0.5404\n",
            "Epoch 8/10\n",
            "313/313 [==============================] - 1s 2ms/step - loss: 1.0681 - accuracy: 0.5592\n",
            "Epoch 9/10\n",
            "313/313 [==============================] - 1s 2ms/step - loss: 1.0383 - accuracy: 0.5726\n",
            "Epoch 10/10\n",
            "313/313 [==============================] - 1s 2ms/step - loss: 1.0109 - accuracy: 0.5829\n"
          ]
        },
        {
          "output_type": "execute_result",
          "data": {
            "text/plain": [
              "<keras.callbacks.History at 0x7eff800f2650>"
            ]
          },
          "metadata": {},
          "execution_count": 7
        }
      ]
    },
    {
      "cell_type": "code",
      "source": [
        "# Save the model and upload to git\n",
        "model.save('model.h5')\n"
      ],
      "metadata": {
        "id": "BL-YPue31W76"
      },
      "execution_count": 8,
      "outputs": []
    }
  ]
}